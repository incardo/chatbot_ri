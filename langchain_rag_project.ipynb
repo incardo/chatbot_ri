{
 "cells": [
  {
   "cell_type": "markdown",
   "metadata": {},
   "source": [
    "# CHATBOP LANGCHAIN"
   ]
  },
  {
   "cell_type": "markdown",
   "metadata": {},
   "source": [
    "Documentation: https://python.langchain.com/v0.1/docs/get_started/introduction"
   ]
  },
  {
   "cell_type": "code",
   "execution_count": 5,
   "metadata": {},
   "outputs": [],
   "source": [
    "import argparse\n",
    "import os\n",
    "import shutil\n",
    "from langchain.document_loaders.pdf import PyPDFDirectoryLoader"
   ]
  },
  {
   "cell_type": "code",
   "execution_count": 1,
   "metadata": {},
   "outputs": [
    {
     "name": "stdout",
     "output_type": "stream",
     "text": [
      "Requirement already satisfied: chromadb in c:\\users\\incar\\miniforge3\\lib\\site-packages (0.5.0)\n",
      "Requirement already satisfied: build>=1.0.3 in c:\\users\\incar\\miniforge3\\lib\\site-packages (from chromadb) (1.2.1)\n",
      "Requirement already satisfied: requests>=2.28 in c:\\users\\incar\\miniforge3\\lib\\site-packages (from chromadb) (2.31.0)\n",
      "Requirement already satisfied: pydantic>=1.9 in c:\\users\\incar\\miniforge3\\lib\\site-packages (from chromadb) (2.7.1)\n",
      "Requirement already satisfied: chroma-hnswlib==0.7.3 in c:\\users\\incar\\miniforge3\\lib\\site-packages (from chromadb) (0.7.3)\n",
      "Requirement already satisfied: fastapi>=0.95.2 in c:\\users\\incar\\miniforge3\\lib\\site-packages (from chromadb) (0.111.0)\n",
      "Requirement already satisfied: uvicorn>=0.18.3 in c:\\users\\incar\\miniforge3\\lib\\site-packages (from uvicorn[standard]>=0.18.3->chromadb) (0.29.0)\n",
      "Requirement already satisfied: numpy>=1.22.5 in c:\\users\\incar\\miniforge3\\lib\\site-packages (from chromadb) (1.26.4)\n",
      "Requirement already satisfied: posthog>=2.4.0 in c:\\users\\incar\\miniforge3\\lib\\site-packages (from chromadb) (3.5.0)\n",
      "Requirement already satisfied: typing-extensions>=4.5.0 in c:\\users\\incar\\miniforge3\\lib\\site-packages (from chromadb) (4.9.0)\n",
      "Requirement already satisfied: onnxruntime>=1.14.1 in c:\\users\\incar\\miniforge3\\lib\\site-packages (from chromadb) (1.18.0)\n",
      "Requirement already satisfied: opentelemetry-api>=1.2.0 in c:\\users\\incar\\miniforge3\\lib\\site-packages (from chromadb) (1.24.0)\n",
      "Requirement already satisfied: opentelemetry-exporter-otlp-proto-grpc>=1.2.0 in c:\\users\\incar\\miniforge3\\lib\\site-packages (from chromadb) (1.24.0)\n",
      "Requirement already satisfied: opentelemetry-instrumentation-fastapi>=0.41b0 in c:\\users\\incar\\miniforge3\\lib\\site-packages (from chromadb) (0.45b0)\n",
      "Requirement already satisfied: opentelemetry-sdk>=1.2.0 in c:\\users\\incar\\miniforge3\\lib\\site-packages (from chromadb) (1.24.0)\n",
      "Requirement already satisfied: tokenizers>=0.13.2 in c:\\users\\incar\\miniforge3\\lib\\site-packages (from chromadb) (0.19.1)\n",
      "Requirement already satisfied: pypika>=0.48.9 in c:\\users\\incar\\miniforge3\\lib\\site-packages (from chromadb) (0.48.9)\n",
      "Requirement already satisfied: tqdm>=4.65.0 in c:\\users\\incar\\miniforge3\\lib\\site-packages (from chromadb) (4.66.1)\n",
      "Requirement already satisfied: overrides>=7.3.1 in c:\\users\\incar\\miniforge3\\lib\\site-packages (from chromadb) (7.7.0)\n",
      "Requirement already satisfied: importlib-resources in c:\\users\\incar\\miniforge3\\lib\\site-packages (from chromadb) (6.4.0)\n",
      "Requirement already satisfied: grpcio>=1.58.0 in c:\\users\\incar\\miniforge3\\lib\\site-packages (from chromadb) (1.64.0)\n",
      "Requirement already satisfied: bcrypt>=4.0.1 in c:\\users\\incar\\miniforge3\\lib\\site-packages (from chromadb) (4.1.3)\n",
      "Requirement already satisfied: typer>=0.9.0 in c:\\users\\incar\\miniforge3\\lib\\site-packages (from chromadb) (0.12.3)\n",
      "Requirement already satisfied: kubernetes>=28.1.0 in c:\\users\\incar\\miniforge3\\lib\\site-packages (from chromadb) (29.0.0)\n",
      "Requirement already satisfied: tenacity>=8.2.3 in c:\\users\\incar\\miniforge3\\lib\\site-packages (from chromadb) (8.2.3)\n",
      "Requirement already satisfied: PyYAML>=6.0.0 in c:\\users\\incar\\miniforge3\\lib\\site-packages (from chromadb) (6.0.1)\n",
      "Requirement already satisfied: mmh3>=4.0.1 in c:\\users\\incar\\miniforge3\\lib\\site-packages (from chromadb) (4.1.0)\n",
      "Requirement already satisfied: orjson>=3.9.12 in c:\\users\\incar\\miniforge3\\lib\\site-packages (from chromadb) (3.10.3)\n",
      "Requirement already satisfied: packaging>=19.1 in c:\\users\\incar\\miniforge3\\lib\\site-packages (from build>=1.0.3->chromadb) (23.2)\n",
      "Requirement already satisfied: pyproject_hooks in c:\\users\\incar\\miniforge3\\lib\\site-packages (from build>=1.0.3->chromadb) (1.1.0)\n",
      "Requirement already satisfied: colorama in c:\\users\\incar\\miniforge3\\lib\\site-packages (from build>=1.0.3->chromadb) (0.4.6)\n",
      "Requirement already satisfied: starlette<0.38.0,>=0.37.2 in c:\\users\\incar\\miniforge3\\lib\\site-packages (from fastapi>=0.95.2->chromadb) (0.37.2)\n",
      "Requirement already satisfied: fastapi-cli>=0.0.2 in c:\\users\\incar\\miniforge3\\lib\\site-packages (from fastapi>=0.95.2->chromadb) (0.0.4)\n",
      "Requirement already satisfied: httpx>=0.23.0 in c:\\users\\incar\\miniforge3\\lib\\site-packages (from fastapi>=0.95.2->chromadb) (0.27.0)\n",
      "Requirement already satisfied: jinja2>=2.11.2 in c:\\users\\incar\\miniforge3\\lib\\site-packages (from fastapi>=0.95.2->chromadb) (3.1.4)\n",
      "Requirement already satisfied: python-multipart>=0.0.7 in c:\\users\\incar\\miniforge3\\lib\\site-packages (from fastapi>=0.95.2->chromadb) (0.0.9)\n",
      "Requirement already satisfied: ujson!=4.0.2,!=4.1.0,!=4.2.0,!=4.3.0,!=5.0.0,!=5.1.0,>=4.0.1 in c:\\users\\incar\\miniforge3\\lib\\site-packages (from fastapi>=0.95.2->chromadb) (5.10.0)\n",
      "Requirement already satisfied: email_validator>=2.0.0 in c:\\users\\incar\\miniforge3\\lib\\site-packages (from fastapi>=0.95.2->chromadb) (2.1.1)\n",
      "Requirement already satisfied: certifi>=14.05.14 in c:\\users\\incar\\miniforge3\\lib\\site-packages (from kubernetes>=28.1.0->chromadb) (2023.11.17)\n",
      "Requirement already satisfied: six>=1.9.0 in c:\\users\\incar\\miniforge3\\lib\\site-packages (from kubernetes>=28.1.0->chromadb) (1.16.0)\n",
      "Requirement already satisfied: python-dateutil>=2.5.3 in c:\\users\\incar\\miniforge3\\lib\\site-packages (from kubernetes>=28.1.0->chromadb) (2.8.2)\n",
      "Requirement already satisfied: google-auth>=1.0.1 in c:\\users\\incar\\miniforge3\\lib\\site-packages (from kubernetes>=28.1.0->chromadb) (2.29.0)\n",
      "Requirement already satisfied: websocket-client!=0.40.0,!=0.41.*,!=0.42.*,>=0.32.0 in c:\\users\\incar\\miniforge3\\lib\\site-packages (from kubernetes>=28.1.0->chromadb) (1.8.0)\n",
      "Requirement already satisfied: requests-oauthlib in c:\\users\\incar\\miniforge3\\lib\\site-packages (from kubernetes>=28.1.0->chromadb) (2.0.0)\n",
      "Requirement already satisfied: oauthlib>=3.2.2 in c:\\users\\incar\\miniforge3\\lib\\site-packages (from kubernetes>=28.1.0->chromadb) (3.2.2)\n",
      "Requirement already satisfied: urllib3>=1.24.2 in c:\\users\\incar\\miniforge3\\lib\\site-packages (from kubernetes>=28.1.0->chromadb) (2.1.0)\n",
      "Requirement already satisfied: coloredlogs in c:\\users\\incar\\miniforge3\\lib\\site-packages (from onnxruntime>=1.14.1->chromadb) (15.0.1)\n",
      "Requirement already satisfied: flatbuffers in c:\\users\\incar\\miniforge3\\lib\\site-packages (from onnxruntime>=1.14.1->chromadb) (24.3.25)\n",
      "Requirement already satisfied: protobuf in c:\\users\\incar\\miniforge3\\lib\\site-packages (from onnxruntime>=1.14.1->chromadb) (4.25.3)\n",
      "Requirement already satisfied: sympy in c:\\users\\incar\\miniforge3\\lib\\site-packages (from onnxruntime>=1.14.1->chromadb) (1.12)\n",
      "Requirement already satisfied: deprecated>=1.2.6 in c:\\users\\incar\\miniforge3\\lib\\site-packages (from opentelemetry-api>=1.2.0->chromadb) (1.2.14)\n",
      "Requirement already satisfied: importlib-metadata<=7.0,>=6.0 in c:\\users\\incar\\miniforge3\\lib\\site-packages (from opentelemetry-api>=1.2.0->chromadb) (7.0.0)\n",
      "Requirement already satisfied: googleapis-common-protos~=1.52 in c:\\users\\incar\\miniforge3\\lib\\site-packages (from opentelemetry-exporter-otlp-proto-grpc>=1.2.0->chromadb) (1.63.0)\n",
      "Requirement already satisfied: opentelemetry-exporter-otlp-proto-common==1.24.0 in c:\\users\\incar\\miniforge3\\lib\\site-packages (from opentelemetry-exporter-otlp-proto-grpc>=1.2.0->chromadb) (1.24.0)\n",
      "Requirement already satisfied: opentelemetry-proto==1.24.0 in c:\\users\\incar\\miniforge3\\lib\\site-packages (from opentelemetry-exporter-otlp-proto-grpc>=1.2.0->chromadb) (1.24.0)\n",
      "Requirement already satisfied: opentelemetry-instrumentation-asgi==0.45b0 in c:\\users\\incar\\miniforge3\\lib\\site-packages (from opentelemetry-instrumentation-fastapi>=0.41b0->chromadb) (0.45b0)\n",
      "Requirement already satisfied: opentelemetry-instrumentation==0.45b0 in c:\\users\\incar\\miniforge3\\lib\\site-packages (from opentelemetry-instrumentation-fastapi>=0.41b0->chromadb) (0.45b0)\n",
      "Requirement already satisfied: opentelemetry-semantic-conventions==0.45b0 in c:\\users\\incar\\miniforge3\\lib\\site-packages (from opentelemetry-instrumentation-fastapi>=0.41b0->chromadb) (0.45b0)\n",
      "Requirement already satisfied: opentelemetry-util-http==0.45b0 in c:\\users\\incar\\miniforge3\\lib\\site-packages (from opentelemetry-instrumentation-fastapi>=0.41b0->chromadb) (0.45b0)\n",
      "Requirement already satisfied: setuptools>=16.0 in c:\\users\\incar\\miniforge3\\lib\\site-packages (from opentelemetry-instrumentation==0.45b0->opentelemetry-instrumentation-fastapi>=0.41b0->chromadb) (70.0.0)\n",
      "Requirement already satisfied: wrapt<2.0.0,>=1.0.0 in c:\\users\\incar\\miniforge3\\lib\\site-packages (from opentelemetry-instrumentation==0.45b0->opentelemetry-instrumentation-fastapi>=0.41b0->chromadb) (1.16.0)\n",
      "Requirement already satisfied: asgiref~=3.0 in c:\\users\\incar\\miniforge3\\lib\\site-packages (from opentelemetry-instrumentation-asgi==0.45b0->opentelemetry-instrumentation-fastapi>=0.41b0->chromadb) (3.8.1)\n",
      "Requirement already satisfied: monotonic>=1.5 in c:\\users\\incar\\miniforge3\\lib\\site-packages (from posthog>=2.4.0->chromadb) (1.6)\n",
      "Requirement already satisfied: backoff>=1.10.0 in c:\\users\\incar\\miniforge3\\lib\\site-packages (from posthog>=2.4.0->chromadb) (2.2.1)\n",
      "Requirement already satisfied: annotated-types>=0.4.0 in c:\\users\\incar\\miniforge3\\lib\\site-packages (from pydantic>=1.9->chromadb) (0.7.0)\n",
      "Requirement already satisfied: pydantic-core==2.18.2 in c:\\users\\incar\\miniforge3\\lib\\site-packages (from pydantic>=1.9->chromadb) (2.18.2)\n",
      "Requirement already satisfied: charset-normalizer<4,>=2 in c:\\users\\incar\\miniforge3\\lib\\site-packages (from requests>=2.28->chromadb) (3.3.2)\n",
      "Requirement already satisfied: idna<4,>=2.5 in c:\\users\\incar\\miniforge3\\lib\\site-packages (from requests>=2.28->chromadb) (3.6)\n",
      "Requirement already satisfied: huggingface-hub<1.0,>=0.16.4 in c:\\users\\incar\\miniforge3\\lib\\site-packages (from tokenizers>=0.13.2->chromadb) (0.23.1)\n",
      "Requirement already satisfied: click>=8.0.0 in c:\\users\\incar\\miniforge3\\lib\\site-packages (from typer>=0.9.0->chromadb) (8.1.7)\n",
      "Requirement already satisfied: shellingham>=1.3.0 in c:\\users\\incar\\miniforge3\\lib\\site-packages (from typer>=0.9.0->chromadb) (1.5.4)\n",
      "Requirement already satisfied: rich>=10.11.0 in c:\\users\\incar\\miniforge3\\lib\\site-packages (from typer>=0.9.0->chromadb) (13.7.1)\n",
      "Requirement already satisfied: h11>=0.8 in c:\\users\\incar\\miniforge3\\lib\\site-packages (from uvicorn>=0.18.3->uvicorn[standard]>=0.18.3->chromadb) (0.14.0)\n",
      "Requirement already satisfied: httptools>=0.5.0 in c:\\users\\incar\\miniforge3\\lib\\site-packages (from uvicorn[standard]>=0.18.3->chromadb) (0.6.1)\n",
      "Requirement already satisfied: python-dotenv>=0.13 in c:\\users\\incar\\miniforge3\\lib\\site-packages (from uvicorn[standard]>=0.18.3->chromadb) (1.0.1)\n",
      "Requirement already satisfied: watchfiles>=0.13 in c:\\users\\incar\\miniforge3\\lib\\site-packages (from uvicorn[standard]>=0.18.3->chromadb) (0.21.0)\n",
      "Requirement already satisfied: websockets>=10.4 in c:\\users\\incar\\miniforge3\\lib\\site-packages (from uvicorn[standard]>=0.18.3->chromadb) (12.0)\n",
      "Requirement already satisfied: dnspython>=2.0.0 in c:\\users\\incar\\miniforge3\\lib\\site-packages (from email_validator>=2.0.0->fastapi>=0.95.2->chromadb) (2.6.1)\n",
      "Requirement already satisfied: cachetools<6.0,>=2.0.0 in c:\\users\\incar\\miniforge3\\lib\\site-packages (from google-auth>=1.0.1->kubernetes>=28.1.0->chromadb) (5.3.3)\n",
      "Requirement already satisfied: pyasn1-modules>=0.2.1 in c:\\users\\incar\\miniforge3\\lib\\site-packages (from google-auth>=1.0.1->kubernetes>=28.1.0->chromadb) (0.4.0)\n",
      "Requirement already satisfied: rsa<5,>=3.1.4 in c:\\users\\incar\\miniforge3\\lib\\site-packages (from google-auth>=1.0.1->kubernetes>=28.1.0->chromadb) (4.9)\n",
      "Requirement already satisfied: anyio in c:\\users\\incar\\miniforge3\\lib\\site-packages (from httpx>=0.23.0->fastapi>=0.95.2->chromadb) (4.3.0)\n",
      "Requirement already satisfied: httpcore==1.* in c:\\users\\incar\\miniforge3\\lib\\site-packages (from httpx>=0.23.0->fastapi>=0.95.2->chromadb) (1.0.5)\n",
      "Requirement already satisfied: sniffio in c:\\users\\incar\\miniforge3\\lib\\site-packages (from httpx>=0.23.0->fastapi>=0.95.2->chromadb) (1.3.1)\n",
      "Requirement already satisfied: filelock in c:\\users\\incar\\miniforge3\\lib\\site-packages (from huggingface-hub<1.0,>=0.16.4->tokenizers>=0.13.2->chromadb) (3.14.0)\n",
      "Requirement already satisfied: fsspec>=2023.5.0 in c:\\users\\incar\\miniforge3\\lib\\site-packages (from huggingface-hub<1.0,>=0.16.4->tokenizers>=0.13.2->chromadb) (2024.5.0)\n",
      "Requirement already satisfied: zipp>=0.5 in c:\\users\\incar\\miniforge3\\lib\\site-packages (from importlib-metadata<=7.0,>=6.0->opentelemetry-api>=1.2.0->chromadb) (3.17.0)\n",
      "Requirement already satisfied: MarkupSafe>=2.0 in c:\\users\\incar\\miniforge3\\lib\\site-packages (from jinja2>=2.11.2->fastapi>=0.95.2->chromadb) (2.1.4)\n",
      "Requirement already satisfied: markdown-it-py>=2.2.0 in c:\\users\\incar\\miniforge3\\lib\\site-packages (from rich>=10.11.0->typer>=0.9.0->chromadb) (3.0.0)\n",
      "Requirement already satisfied: pygments<3.0.0,>=2.13.0 in c:\\users\\incar\\miniforge3\\lib\\site-packages (from rich>=10.11.0->typer>=0.9.0->chromadb) (2.17.2)\n",
      "Requirement already satisfied: humanfriendly>=9.1 in c:\\users\\incar\\miniforge3\\lib\\site-packages (from coloredlogs->onnxruntime>=1.14.1->chromadb) (10.0)\n",
      "Requirement already satisfied: mpmath>=0.19 in c:\\users\\incar\\miniforge3\\lib\\site-packages (from sympy->onnxruntime>=1.14.1->chromadb) (1.3.0)\n",
      "Requirement already satisfied: pyreadline3 in c:\\users\\incar\\miniforge3\\lib\\site-packages (from humanfriendly>=9.1->coloredlogs->onnxruntime>=1.14.1->chromadb) (3.4.1)\n",
      "Requirement already satisfied: mdurl~=0.1 in c:\\users\\incar\\miniforge3\\lib\\site-packages (from markdown-it-py>=2.2.0->rich>=10.11.0->typer>=0.9.0->chromadb) (0.1.2)\n",
      "Requirement already satisfied: pyasn1<0.7.0,>=0.4.6 in c:\\users\\incar\\miniforge3\\lib\\site-packages (from pyasn1-modules>=0.2.1->google-auth>=1.0.1->kubernetes>=28.1.0->chromadb) (0.6.0)\n",
      "Requirement already satisfied: pypdf in c:\\users\\incar\\miniforge3\\lib\\site-packages (4.2.0)\n",
      "Collecting pytest\n",
      "  Downloading pytest-8.2.1-py3-none-any.whl.metadata (7.6 kB)\n",
      "Collecting iniconfig (from pytest)\n",
      "  Downloading iniconfig-2.0.0-py3-none-any.whl.metadata (2.6 kB)\n",
      "Requirement already satisfied: packaging in c:\\users\\incar\\miniforge3\\lib\\site-packages (from pytest) (23.2)\n",
      "Collecting pluggy<2.0,>=1.5 (from pytest)\n",
      "  Downloading pluggy-1.5.0-py3-none-any.whl.metadata (4.8 kB)\n",
      "Requirement already satisfied: colorama in c:\\users\\incar\\miniforge3\\lib\\site-packages (from pytest) (0.4.6)\n",
      "Downloading pytest-8.2.1-py3-none-any.whl (339 kB)\n",
      "   ---------------------------------------- 0.0/339.6 kB ? eta -:--:--\n",
      "   ---- ---------------------------------- 41.0/339.6 kB 960.0 kB/s eta 0:00:01\n",
      "   -------------- ------------------------- 122.9/339.6 kB 1.4 MB/s eta 0:00:01\n",
      "   ---------------------- ----------------- 194.6/339.6 kB 1.5 MB/s eta 0:00:01\n",
      "   -------------------------------- ------- 276.5/339.6 kB 1.5 MB/s eta 0:00:01\n",
      "   ---------------------------------------- 339.6/339.6 kB 1.6 MB/s eta 0:00:00\n",
      "Downloading pluggy-1.5.0-py3-none-any.whl (20 kB)\n",
      "Downloading iniconfig-2.0.0-py3-none-any.whl (5.9 kB)\n",
      "Installing collected packages: pluggy, iniconfig, pytest\n",
      "  Attempting uninstall: pluggy\n",
      "    Found existing installation: pluggy 1.3.0\n",
      "    Uninstalling pluggy-1.3.0:\n",
      "      Successfully uninstalled pluggy-1.3.0\n",
      "Successfully installed iniconfig-2.0.0 pluggy-1.5.0 pytest-8.2.1\n"
     ]
    }
   ],
   "source": [
    "#!pip install langchain\n",
    "# !pip install chromadb\n",
    "# !pip install pypdf\n",
    "# !pip install pytest\n",
    "#! pip install boto3"
   ]
  },
  {
   "cell_type": "code",
   "execution_count": 2,
   "metadata": {},
   "outputs": [
    {
     "data": {
      "text/plain": [
       "'c:\\\\Users\\\\incar\\\\PycharmProjects\\\\chatbot_ri'"
      ]
     },
     "execution_count": 2,
     "metadata": {},
     "output_type": "execute_result"
    }
   ],
   "source": [
    "pwd"
   ]
  },
  {
   "cell_type": "markdown",
   "metadata": {},
   "source": [
    "## Load document"
   ]
  },
  {
   "cell_type": "code",
   "execution_count": 7,
   "metadata": {},
   "outputs": [],
   "source": [
    "def load_documents(DATA_PATH):\n",
    "    document_loader = PyPDFDirectoryLoader(DATA_PATH)\n",
    "    return document_loader.load()\n",
    "\n",
    "documents = load_documents('c:\\\\Users\\\\incar\\\\PycharmProjects\\\\chatbot_ri\\\\data')"
   ]
  },
  {
   "cell_type": "code",
   "execution_count": 9,
   "metadata": {},
   "outputs": [
    {
     "data": {
      "text/plain": [
       "455"
      ]
     },
     "execution_count": 9,
     "metadata": {},
     "output_type": "execute_result"
    }
   ],
   "source": [
    "len(documents)"
   ]
  },
  {
   "cell_type": "markdown",
   "metadata": {},
   "source": [
    "## Split document"
   ]
  },
  {
   "cell_type": "code",
   "execution_count": 11,
   "metadata": {},
   "outputs": [],
   "source": [
    "def split_documents(documents: list[Document]):\n",
    "    text_splitter = RecursiveCharacterTextSplitter(\n",
    "        chunk_size=800,\n",
    "        chunk_overlap=80,\n",
    "        length_function=len,\n",
    "        is_separator_regex=False,\n",
    "    )\n",
    "    return text_splitter.split_documents(documents)\n",
    "\n",
    "chunks = split_documents(documents)"
   ]
  },
  {
   "cell_type": "code",
   "execution_count": 13,
   "metadata": {},
   "outputs": [
    {
     "data": {
      "text/plain": [
       "2906"
      ]
     },
     "execution_count": 13,
     "metadata": {},
     "output_type": "execute_result"
    }
   ],
   "source": [
    "len(chunks)"
   ]
  },
  {
   "cell_type": "markdown",
   "metadata": {},
   "source": [
    "## Embedding function"
   ]
  },
  {
   "cell_type": "markdown",
   "metadata": {},
   "source": [
    "Different embeddings can be used like local version with Ollama"
   ]
  },
  {
   "cell_type": "code",
   "execution_count": 15,
   "metadata": {},
   "outputs": [],
   "source": [
    "from langchain_community.embeddings.ollama import OllamaEmbeddings\n",
    "from langchain_community.embeddings.bedrock import BedrockEmbeddings\n",
    "\n",
    "\n",
    "def get_embedding_function():\n",
    "    embeddings = BedrockEmbeddings(\n",
    "        credentials_profile_name=\"default\", region_name=\"us-east-1\"\n",
    "    )\n",
    "    # embeddings = OllamaEmbeddings(model=\"nomic-embed-text\")\n",
    "    return embeddings\n"
   ]
  },
  {
   "cell_type": "markdown",
   "metadata": {},
   "source": [
    "## Create the database"
   ]
  },
  {
   "cell_type": "code",
   "execution_count": null,
   "metadata": {},
   "outputs": [],
   "source": [
    "def add_to_chroma(chunks: list[Document]):\n",
    "    # Load the existing database.\n",
    "    db = Chroma(\n",
    "        persist_directory=CHROMA_PATH, embedding_function=get_embedding_function()\n",
    "    )\n",
    "\n",
    "    # Calculate Page IDs.\n",
    "    chunks_with_ids = calculate_chunk_ids(chunks)\n",
    "\n",
    "    # Add or Update the documents.\n",
    "    existing_items = db.get(include=[])  # IDs are always included by default\n",
    "    existing_ids = set(existing_items[\"ids\"])\n",
    "    print(f\"Number of existing documents in DB: {len(existing_ids)}\")\n",
    "\n",
    "    # Only add documents that don't exist in the DB.\n",
    "    new_chunks = []\n",
    "    for chunk in chunks_with_ids:\n",
    "        if chunk.metadata[\"id\"] not in existing_ids:\n",
    "            new_chunks.append(chunk)\n",
    "\n",
    "    if len(new_chunks):\n",
    "        print(f\"👉 Adding new documents: {len(new_chunks)}\")\n",
    "        new_chunk_ids = [chunk.metadata[\"id\"] for chunk in new_chunks]\n",
    "        db.add_documents(new_chunks, ids=new_chunk_ids)\n",
    "        db.persist()\n",
    "    else:\n",
    "        print(\"✅ No new documents to add\")"
   ]
  },
  {
   "cell_type": "code",
   "execution_count": 3,
   "metadata": {},
   "outputs": [
    {
     "name": "stdout",
     "output_type": "stream",
     "text": [
      "Number of existing documents in DB: 0\n",
      "👉 Adding new documents: 2906\n"
     ]
    },
    {
     "name": "stderr",
     "output_type": "stream",
     "text": [
      "c:\\Users\\incar\\miniforge3\\Lib\\site-packages\\langchain_core\\_api\\deprecation.py:119: LangChainDeprecationWarning: Since Chroma 0.4.x the manual persistence method is no longer supported as docs are automatically persisted.\n",
      "  warn_deprecated(\n"
     ]
    }
   ],
   "source": [
    "from functions import populate_database \n",
    "import importlib\n",
    "importlib.reload(populate_database)\n",
    "populate_database.main()\n"
   ]
  },
  {
   "cell_type": "code",
   "execution_count": 4,
   "metadata": {},
   "outputs": [
    {
     "name": "stdout",
     "output_type": "stream",
     "text": [
      "Human: \n",
      "Answer the question based only on the following context:\n",
      "\n",
      "7.29 Positions in unlisted portfolio investment \n",
      "equity securities without an observable market price may be valued using methods discussed in paragraphs 7.16–7.17 for direct investment equity. Some listed debt securities also may have no quoted prices, for example, if the market is illiquid or the security ceases trading due to suspension, default, or bankruptcy. A market price can be estimated for such debt securi-ties by discounting future cash flows using a discount rate that takes into account the risk of default (present value approach).\n",
      "5. Debt securities at nominal values\n",
      "7.30 Whereas the basic valuation method for debt \n",
      "securities is the market value, the nominal value is encouraged as a supplementary item. External Debt \n",
      "Statistics: Guide for Compilers and Users  recom-\n",
      "\n",
      "---\n",
      "\n",
      "Equity may be split into listed shares, unlisted shares, \n",
      "and other equity (paragraph 5.24).\n",
      "Investment fund shares and money market fund shares \n",
      "are separately identified (paragraphs 5.28–5.30).\n",
      "SDR allocations represent a liability of the recipient \n",
      "(paragraph 5.35, also paragraphs 6.61(g) and 7.70, and applied to income in paragraphs 11.106 and 11.110; BPM5  paragraph 440).\n",
      "Interbank positions are shown as an additional \n",
      "financial instrument category on a supplementary basis (paragraph 5.42).\n",
      " “Bonds and notes” and “money market instruments” \n",
      "are replaced as terms by long-term and short-term debt securities, respectively (paragraphs 5.44 and 5.103; BPM5  paragraphs 390–391).\n",
      "The conditions for traded loans to be reclassified as \n",
      "securities are clarified (paragraph 5.45).\n",
      "\n",
      "---\n",
      "\n",
      "5.30 Investment funds invest in a range of assets, \n",
      "such as debt securities, equity, commodity-linked investments, real estate, shares in other investment funds, and structured assets. Data on the composition of their assets could be useful in economies in which investment funds are significant.\n",
      "3. Debt instruments\n",
      "Reference:IMF and others, External Debt Statistics: Guide for \n",
      "Compilers and Users , paragraphs 2.3–2.11.\n",
      "5.31 Debt instruments are those instruments that \n",
      "require the payment of principal and/or interest at some point(s) in the future .\n",
      "2 Debt instruments con-\n",
      "\n",
      "---\n",
      "\n",
      "11.104 Two types of portfolio investment income \n",
      "are distinguished at the first level, namely, income on equity securities and investment fund shares, and income on debt securities. The income on investment fund shares includes both dividends and reinvested earnings. Income on equity securities other than invest-ment fund shares includes only distributed earnings (dividends). Interest is further classified by types of debt security and by maturity. Such a detailed classifica-tion of portfolio investment income ensures consistency with both instrument and functional classifications of financial assets and liabilities.\n",
      "11.105 Portfolio investment income can be further\n",
      "\n",
      "---\n",
      "\n",
      "c. Debt securities\n",
      "5.44 Debt securities are negotiable instruments \n",
      "serving as evidence of a debt . They include bills,\n",
      "\n",
      "---\n",
      "\n",
      "Answer the question based on the above context: Hello, can you tell me what is portfolio investment debt securities?\n",
      "\n",
      "Response: \n",
      "Portfolio investment debt securities refer to financial assets that represent borrowed funds and require payment of principal and/or interest at some point in the future. These are negotiable instruments serving as evidence of a debt, such as bills or notes. They can be classified by types (e.g., long-term vs short-term) and further categorized based on their maturity. Income from these investments includes interest payments which may vary depending on the type of debt security held.\n",
      "Sources: ['c:\\\\Users\\\\incar\\\\PycharmProjects\\\\chatbot_ri\\\\data\\\\bpm6.pdf', 'c:\\\\Users\\\\incar\\\\PycharmProjects\\\\chatbot_ri\\\\data\\\\bpm6.pdf', 'c:\\\\Users\\\\incar\\\\PycharmProjects\\\\chatbot_ri\\\\data\\\\bpm6.pdf', 'c:\\\\Users\\\\incar\\\\PycharmProjects\\\\chatbot_ri\\\\data\\\\bpm6.pdf', 'c:\\\\Users\\\\incar\\\\PycharmProjects\\\\chatbot_ri\\\\data\\\\bpm6.pdf']\n"
     ]
    }
   ],
   "source": [
    "from functions import query_data \n",
    "import importlib\n",
    "importlib.reload(query_data)\n",
    "query_data.main(query_text=\"Hello, can you tell me what is portfolio investment debt securities?\")\n"
   ]
  },
  {
   "cell_type": "markdown",
   "metadata": {},
   "source": [
    "### Test"
   ]
  },
  {
   "cell_type": "code",
   "execution_count": 2,
   "metadata": {},
   "outputs": [
    {
     "name": "stdout",
     "output_type": "stream",
     "text": [
      "[{'role': 'system', 'content': ''}, {'role': 'user', 'content': 'hello'}, {'role': 'assistant', 'content': 'Hello! How can I assist you today? If you have any questions or need help, feel free to ask.\\n\\n'}, {'role': 'user', 'content': 'write me a short poem'}, {'role': 'assistant', 'content': \"In the realm of words and thoughts we dwell,\\nA poet's heart, where dreams do often tell,\\nOf love and loss, of joy and pain,\\nWe craft verses that forever remain.\\n\\nWith each word chosen with care and grace,\\nThe rhythm flows like a gentle embrace,\\nAs lines unfold in sweet harmony,\\nOur souls find solace, our hearts set free.\"}, {'role': 'user', 'content': 'thank you'}, {'role': 'assistant', 'content': \"You're welcome! I'm always here to help or provide inspiration when needed. If there is anything else you would like, feel free to ask.\"}]\n"
     ]
    }
   ],
   "source": [
    "from gpt4all import GPT4All\n",
    "model = GPT4All(model_name='Nous-Hermes-2-Mistral-7B-DPO.Q4_0.gguf',  \n",
    "                model_path='C:\\\\Users\\\\incar\\\\AppData\\\\Local\\\\nomic.ai\\\\GPT4All', \n",
    "                allow_download=False)\n",
    "with model.chat_session():\n",
    "    response1 = model.generate(prompt='hello', temp=0)\n",
    "    response2 = model.generate(prompt='write me a short poem', temp=0)\n",
    "    response3 = model.generate(prompt='thank you', temp=0)\n",
    "    print(model.current_chat_session)"
   ]
  },
  {
   "cell_type": "code",
   "execution_count": null,
   "metadata": {},
   "outputs": [],
   "source": []
  }
 ],
 "metadata": {
  "kernelspec": {
   "display_name": "base",
   "language": "python",
   "name": "python3"
  },
  "language_info": {
   "codemirror_mode": {
    "name": "ipython",
    "version": 3
   },
   "file_extension": ".py",
   "mimetype": "text/x-python",
   "name": "python",
   "nbconvert_exporter": "python",
   "pygments_lexer": "ipython3",
   "version": "3.12.0"
  }
 },
 "nbformat": 4,
 "nbformat_minor": 2
}
